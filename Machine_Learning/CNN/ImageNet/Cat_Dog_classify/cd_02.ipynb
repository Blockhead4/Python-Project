{
 "cells": [
  {
   "cell_type": "code",
   "execution_count": null,
   "metadata": {},
   "outputs": [
    {
     "name": "stdout",
     "output_type": "stream",
     "text": [
      "Train on 22451 samples, validate on 2495 samples\n",
      "Epoch 1/10\n",
      "22451/22451 [==============================] - 85s 4ms/sample - loss: 0.6461 - acc: 0.6173 - val_loss: 0.5748 - val_acc: 0.6958\n",
      "Epoch 2/10\n",
      "22451/22451 [==============================] - 85s 4ms/sample - loss: 0.5538 - acc: 0.7193 - val_loss: 0.5233 - val_acc: 0.7531\n",
      "Epoch 3/10\n",
      "22451/22451 [==============================] - 88s 4ms/sample - loss: 0.5093 - acc: 0.7532 - val_loss: 0.5039 - val_acc: 0.7643\n",
      "Epoch 4/10\n",
      "22451/22451 [==============================] - 86s 4ms/sample - loss: 0.4777 - acc: 0.7749 - val_loss: 0.4821 - val_acc: 0.7848\n",
      "Epoch 5/10\n",
      "22451/22451 [==============================] - 86s 4ms/sample - loss: 0.4481 - acc: 0.7931 - val_loss: 0.4512 - val_acc: 0.8000\n",
      "Epoch 6/10\n",
      "22451/22451 [==============================] - 87s 4ms/sample - loss: 0.4269 - acc: 0.8046 - val_loss: 0.4677 - val_acc: 0.7896\n",
      "Epoch 7/10\n",
      "22451/22451 [==============================] - 88s 4ms/sample - loss: 0.4079 - acc: 0.8140 - val_loss: 0.4555 - val_acc: 0.7916\n",
      "Epoch 8/10\n",
      "22451/22451 [==============================] - 88s 4ms/sample - loss: 0.3911 - acc: 0.8231 - val_loss: 0.4445 - val_acc: 0.8012\n",
      "Epoch 9/10\n",
      "22451/22451 [==============================] - 88s 4ms/sample - loss: 0.3743 - acc: 0.8323 - val_loss: 0.4495 - val_acc: 0.8088\n",
      "Epoch 10/10\n",
      " 1920/22451 [=>............................] - ETA: 1:19 - loss: 0.3648 - acc: 0.8370"
     ]
    }
   ],
   "source": [
    "import tensorflow as tf\n",
    "from tensorflow.keras.models import Sequential\n",
    "from tensorflow.keras.layers import Dense, Dropout, Activation, Flatten, Conv2D, MaxPooling2D\n",
    "import pickle\n",
    "\n",
    "X = pickle.load(open(\"X.pickle\", \"rb\"))\n",
    "y = pickle.load(open(\"y.pickle\", \"rb\"))\n",
    "\n",
    "X = X/255.0\n",
    "\n",
    "model = Sequential()\n",
    "\n",
    "model.add(Conv2D(64, (3,3), input_shape = X.shape[1:]))\n",
    "model.add(Activation(\"relu\"))\n",
    "model.add(MaxPooling2D(pool_size=(2,2)))\n",
    "\n",
    "model.add(Conv2D(64, (3,3)))\n",
    "model.add(Activation(\"relu\"))\n",
    "model.add(MaxPooling2D(pool_size=(2,2)))\n",
    "\n",
    "model.add(Flatten())\n",
    "model.add(Dense(64))\n",
    "\n",
    "model.add(Dense(1))\n",
    "model.add(Activation(\"sigmoid\"))\n",
    "\n",
    "model.compile(loss=\"binary_crossentropy\",\n",
    "              optimizer=\"adam\",\n",
    "              metrics=['accuracy'])\n",
    "\n",
    "model.fit(X, y, batch_size=32, epochs=10, validation_split=0.1)"
   ]
  },
  {
   "cell_type": "code",
   "execution_count": null,
   "metadata": {},
   "outputs": [],
   "source": []
  }
 ],
 "metadata": {
  "kernelspec": {
   "display_name": "py_DL",
   "language": "python",
   "name": "py_dl"
  },
  "language_info": {
   "codemirror_mode": {
    "name": "ipython",
    "version": 3
   },
   "file_extension": ".py",
   "mimetype": "text/x-python",
   "name": "python",
   "nbconvert_exporter": "python",
   "pygments_lexer": "ipython3",
   "version": "3.7.3"
  }
 },
 "nbformat": 4,
 "nbformat_minor": 2
}
