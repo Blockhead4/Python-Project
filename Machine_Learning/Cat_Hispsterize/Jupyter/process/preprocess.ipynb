{
 "cells": [
  {
   "cell_type": "markdown",
   "metadata": {},
   "source": [
    "## Preprocess"
   ]
  },
  {
   "cell_type": "code",
   "execution_count": 2,
   "metadata": {},
   "outputs": [],
   "source": [
    "import random\n",
    "import dlib, cv2, os\n",
    "import pandas as pd\n",
    "import numpy as np"
   ]
  },
  {
   "cell_type": "code",
   "execution_count": null,
   "metadata": {},
   "outputs": [],
   "source": [
    "img_size = 224\n",
    "\n",
    "for i in range(7):\n",
    "    \n",
    "    dirname = f'CAT_0{i}'\n",
    "    path = 'C:/Users/Jwp/Desktop/workspace/python/ML_Tools/dataset/Cat_Hipsterizer/'\n",
    "    base_path = path + dirname\n",
    "    file_lists = sorted(os.listdir(base_path))\n",
    "    random.shuffle(file_lists)\n",
    "\n",
    "    dataset = {\n",
    "    'imgs': [],\n",
    "    'lmks': [],\n",
    "    'bbs': []\n",
    "    }\n",
    "\n",
    "    def resize_img(im):\n",
    "        old_size = im.shape[:2] # old_size is in (height, width) format\n",
    "        ratio = float(img_size) / max(old_size)\n",
    "        new_size = tuple([int(x*ratio) for x in old_size])\n",
    "        # new_size should be in (width, height) format\n",
    "        im = cv2.resize(im, (new_size[1], new_size[0]))\n",
    "        delta_w = img_size - new_size[1]\n",
    "        delta_h = img_size - new_size[0]\n",
    "        top, bottom = delta_h // 2, delta_h - (delta_h // 2)\n",
    "        left, right = delta_w // 2, delta_w - (delta_w // 2)\n",
    "        new_im = cv2.copyMakeBorder(im, top, bottom, left, right, cv2.BORDER_CONSTANT,\n",
    "            value=[0, 0, 0])\n",
    "        return new_im, ratio, top, left\n",
    "\n",
    "    for file_list in file_lists:\n",
    "        if '.cat' not in file_list:\n",
    "            continue\n",
    "\n",
    "        # read landmarks\n",
    "        pd_frame = pd.read_csv(os.path.join(base_path, file_list), sep=' ', header=None)\n",
    "        landmarks = (pd_frame.as_matrix()[0][1:-1]).reshape((-1, 2))\n",
    "\n",
    "        # load image\n",
    "        img_filename, ext = os.path.splitext(file_list)\n",
    "\n",
    "        img = cv2.imread(os.path.join(base_path, img_filename))\n",
    "\n",
    "        # resize image and relocate landmarks\n",
    "        img, ratio, top, left = resize_img(img)\n",
    "        landmarks = ((landmarks * ratio) + np.array([left, top])).astype(np.int)\n",
    "        bb = np.array([np.min(landmarks, axis=0), np.max(landmarks, axis=0)])\n",
    "        \n",
    "        dataset['imgs'].append(img)\n",
    "        dataset['lmks'].append(landmarks.flatten())\n",
    "        dataset['bbs'].append(bb.flatten())\n",
    "\n",
    "        # for landmark in landmarks:\n",
    "        #   cv2.circle(img, center=tuple(landmark), radius=1, color=(255, 255, 255), thickness=2)\n",
    "\n",
    "        # cv2.imshow('img', img)\n",
    "        # if cv2.waitKey(0) == ord('q'):\n",
    "        #   break\n",
    "\n",
    "    np.save(path+'pre_dataset/%s.npy' % dirname, np.array(dataset))"
   ]
  },
  {
   "cell_type": "code",
   "execution_count": null,
   "metadata": {},
   "outputs": [],
   "source": []
  }
 ],
 "metadata": {
  "kernelspec": {
   "display_name": "py_ML",
   "language": "python",
   "name": "py_ml"
  },
  "language_info": {
   "codemirror_mode": {
    "name": "ipython",
    "version": 3
   },
   "file_extension": ".py",
   "mimetype": "text/x-python",
   "name": "python",
   "nbconvert_exporter": "python",
   "pygments_lexer": "ipython3",
   "version": "3.6.8"
  }
 },
 "nbformat": 4,
 "nbformat_minor": 2
}
