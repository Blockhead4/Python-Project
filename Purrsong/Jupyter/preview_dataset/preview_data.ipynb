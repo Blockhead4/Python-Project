{
 "cells": [
  {
   "cell_type": "markdown",
   "metadata": {},
   "source": [
    "## Preview_data"
   ]
  },
  {
   "cell_type": "code",
   "execution_count": 1,
   "metadata": {},
   "outputs": [],
   "source": [
    "import random\n",
    "import numpy as np\n",
    "import dlib, cv2, os\n",
    "import pandas as pd"
   ]
  },
  {
   "cell_type": "code",
   "execution_count": 2,
   "metadata": {},
   "outputs": [],
   "source": [
    "dirname = 'CAT_00'\n",
    "base_path = 'C:/Users/Jwp/Desktop/workspace/python/ML_Tools/dataset/Cat_Hipsterizer/%s' % dirname\n",
    "file_lists = sorted(os.listdir(base_path))"
   ]
  },
  {
   "cell_type": "code",
   "execution_count": 18,
   "metadata": {},
   "outputs": [],
   "source": [
    "for f in file_lists:\n",
    "    if '.cat' not in f:\n",
    "        continue\n",
    "\n",
    "    # read landmarks\n",
    "    pd_frame = pd.read_csv(os.path.join(base_path, f), sep=' ', header=None)\n",
    "    landmarks = (pd_frame.values[0][1:-1]).reshape((-1, 2)).astype(np.int)\n",
    "\n",
    "    # load image\n",
    "    img_filename, ext = os.path.splitext(f)\n",
    "\n",
    "    img = cv2.imread(os.path.join(base_path, img_filename))\n",
    "\n",
    "    # visualize\n",
    "    for landmark in landmarks:\n",
    "        cv2.circle(img, center=tuple(landmark), radius=1, color=(0, 0, 255), thickness=2)\n",
    "\n",
    "    cv2.imshow('img', img)\n",
    "    if cv2.waitKey(0) == ord('q'):\n",
    "        break\n",
    "    \n",
    "    break"
   ]
  }
 ],
 "metadata": {
  "kernelspec": {
   "display_name": "py_ML",
   "language": "python",
   "name": "py_ml"
  },
  "language_info": {
   "codemirror_mode": {
    "name": "ipython",
    "version": 3
   },
   "file_extension": ".py",
   "mimetype": "text/x-python",
   "name": "python",
   "nbconvert_exporter": "python",
   "pygments_lexer": "ipython3",
   "version": "3.6.8"
  }
 },
 "nbformat": 4,
 "nbformat_minor": 2
}
