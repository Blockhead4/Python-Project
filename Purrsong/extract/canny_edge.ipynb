{
 "cells": [
  {
   "cell_type": "markdown",
   "metadata": {},
   "source": [
    "## Canny Edge Detection"
   ]
  },
  {
   "cell_type": "code",
   "execution_count": 1,
   "metadata": {},
   "outputs": [],
   "source": [
    "import cv2\n",
    "import numpy as np\n",
    "import glob"
   ]
  },
  {
   "cell_type": "code",
   "execution_count": 2,
   "metadata": {},
   "outputs": [],
   "source": [
    "def auto_canny(image, sigma=0.33):\n",
    "    # compute the median of the single channel pixel intensities\n",
    "    v = np.median(image)\n",
    "\n",
    "    # apply automatic Canny edge detection using the computed median\n",
    "    lower = int(max(0, (1.0 - sigma) * v))\n",
    "    upper = int(min(255, (1.0 + sigma) * v))\n",
    "    edged = cv2.Canny(image, lower, upper)\n",
    "\n",
    "    print('lower: %d  upper: %d' % (lower, upper))\n",
    "\n",
    "    # return the edged image\n",
    "    return edged"
   ]
  },
  {
   "cell_type": "code",
   "execution_count": null,
   "metadata": {},
   "outputs": [],
   "source": [
    "# construct the argument parse and parse the arguments\n",
    "ap = argparse.ArgumentParser()\n",
    "ap.add_argument(\"-i\", \"--images\", required=True, help=\"path to input dataset of images\")\n",
    "args = vars(ap.parse_args())\n",
    "#canny.py -i image\n",
    "# loop over the images\n",
    "for imagePath in glob.glob(args[\"images\"] + \"/*.jpg\"):\n",
    "    # load the image, convert it to grayscale, and blur it slightly\n",
    "    image = cv2.imread(imagePath)\n",
    "    gray = cv2.cvtColor(image, cv2.COLOR_BGR2GRAY)\n",
    "    blurred = cv2.GaussianBlur(gray, (3, 3), 0)\n",
    "\n",
    "    # apply Canny edge detection using a wide threshold, tight\n",
    "    # threshold, and automatically determined threshold\n",
    "    wide = cv2.Canny(blurred, 10, 200)\n",
    "    tight = cv2.Canny(blurred, 225, 250)\n",
    "    auto = auto_canny(blurred)\n",
    "\n",
    "    # show the images\n",
    "    cv2.imshow(\"Original\", image)\n",
    "    # cv2.imshow(\"Edges\", np.hstack([wide, tight, auto]))\n",
    "    cv2.imshow(\"wide,tight\", np.hstack([wide, tight]))\n",
    "    cv2.imshow(\"Edges\", auto)\n",
    "    cv2.waitKey(0)\n",
    "\n",
    "\n",
    "\n",
    "\n",
    "# src = cv2.imread(\"image/007.jpg\", cv2.IMREAD_COLOR)\n",
    "# x,y,z = src.shape\n",
    "\n",
    "# kernel = np.ones((5,5), np.float32)/25\n",
    "# blur = cv2.filter2D(src, -1, kernel)\n",
    "\n",
    "\n",
    "# canny = cv2.Canny(src, 127, 255)\n",
    "# canny_blur = cv2.Canny(blur, 127, 255)\n",
    "# dim= np.zeros((x,y))\n",
    "# canny = np.dstack((canny,dim,dim))\n",
    "# canny_blur = np.dstack((canny_blur,dim,dim))\n",
    "\n",
    "# for i in range(len(canny)):\n",
    "#  \tfor j in range(canny.shape[1]):\n",
    "#  \t\tif (canny[i][j][0] == 255):\n",
    "#  \t\t\tcanny[i][j][1],canny[i][j][2]=255,255\n",
    "\n",
    "# for i in range(len(canny_blur)):\n",
    "#  \tfor j in range(canny_blur.shape[1]):\n",
    "#  \t\tif (canny_blur[i][j][0] == 255):\n",
    "#  \t\t\tcanny_blur[i][j][1],canny_blur[i][j][2]=255,255\n",
    "\t\t\t\n",
    "# result = np.where(canny == 255)\n",
    "# result = [(i,v) for i,v in zip(result[0],result[1])]\n",
    "\n",
    "\n",
    "# # cv2.imshow(\"canny\", canny)\n",
    "# # cv2.imshow(\"canny_blur\", canny_blur)\n",
    "# # cv2.imshow(\"ORIGN\", src)\n",
    "# # cv2.imshow(\"canny, canny_blur\",np.hstack((canny, canny_blur)))\n",
    "\n",
    "# # cv2.imshow(\"sobel\", sobel)\n",
    "# # cv2.imshow(\"laplacian\", laplacian)\n",
    "# cv2.waitKey(0)\n",
    "# cv2.destroyAllWindows()"
   ]
  }
 ],
 "metadata": {
  "kernelspec": {
   "display_name": "dlib",
   "language": "python",
   "name": "dlib"
  },
  "language_info": {
   "codemirror_mode": {
    "name": "ipython",
    "version": 3
   },
   "file_extension": ".py",
   "mimetype": "text/x-python",
   "name": "python",
   "nbconvert_exporter": "python",
   "pygments_lexer": "ipython3",
   "version": "3.6.9"
  }
 },
 "nbformat": 4,
 "nbformat_minor": 2
}
