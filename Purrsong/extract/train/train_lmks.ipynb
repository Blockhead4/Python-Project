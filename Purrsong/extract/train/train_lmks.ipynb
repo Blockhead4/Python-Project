{
 "cells": [
  {
   "cell_type": "markdown",
   "metadata": {},
   "source": [
    "## Train_lmks"
   ]
  },
  {
   "cell_type": "code",
   "execution_count": 1,
   "metadata": {},
   "outputs": [
    {
     "name": "stderr",
     "output_type": "stream",
     "text": [
      "Using TensorFlow backend.\n"
     ]
    }
   ],
   "source": [
    "import keras, datetime\n",
    "from keras.layers import Input, Dense\n",
    "from keras.models import Model\n",
    "from keras.callbacks import TensorBoard, ModelCheckpoint, ReduceLROnPlateau\n",
    "from keras.applications import mobilenetv2\n",
    "import numpy as np"
   ]
  },
  {
   "cell_type": "code",
   "execution_count": null,
   "metadata": {},
   "outputs": [],
   "source": [
    "preset_path = r'C:\\Users\\Jwp\\Desktop\\workspace\\python\\ML_Tools\\dataset\\Cat_Hipsterizer\\pre_dataset'\n",
    "\n",
    "img_size = 224\n",
    "\n",
    "mode = 'lmks' # [bbs, lmks]\n",
    "if mode is 'bbs':\n",
    "    output_size = 4\n",
    "elif mode is 'lmks':\n",
    "    output_size = 18\n",
    "\n",
    "start_time = datetime.datetime.now().strftime('%Y_%m_%d_%H_%M_%S')\n",
    "\n",
    "data_00 = np.load(preset_path+'/CAT_00.npy')\n",
    "data_01 = np.load(preset_path+'/CAT_01.npy')\n",
    "data_02 = np.load(preset_path+'/CAT_02.npy')\n",
    "data_03 = np.load(preset_path+'/CAT_03.npy')\n",
    "data_04 = np.load(preset_path+'/CAT_04.npy')\n",
    "data_05 = np.load(preset_path+'/CAT_05.npy')\n",
    "data_06 = np.load(preset_path+'/CAT_06.npy')\n",
    "\n",
    "x_train = np.concatenate((data_00.item().get('imgs'), data_01.item().get('imgs'), \n",
    "                          data_02.item().get('imgs'), data_03.item().get('imgs'), \n",
    "                          data_04.item().get('imgs'), data_05.item().get('imgs')), axis=0)\n",
    "y_train = np.concatenate((data_00.item().get(mode), data_01.item().get(mode), \n",
    "                          data_02.item().get(mode), data_03.item().get(mode), \n",
    "                          data_04.item().get(mode), data_05.item().get(mode)), axis=0)\n",
    "\n",
    "x_test = np.array(data_06.item().get('imgs'))\n",
    "y_test = np.array(data_06.item().get(mode))\n",
    "\n",
    "x_train = x_train.astype('float32') / 255.\n",
    "x_test = x_test.astype('float32') / 255.\n",
    "x_train = np.reshape(x_train, (-1, img_size, img_size, 3))\n",
    "x_test = np.reshape(x_test, (-1, img_size, img_size, 3))\n",
    "\n",
    "y_train = np.reshape(y_train, (-1, output_size))\n",
    "y_test = np.reshape(y_test, (-1, output_size))\n",
    "\n",
    "inputs = Input(shape=(img_size, img_size, 3))\n",
    "\n",
    "mobilenetv2_model = mobilenetv2.MobileNetV2(input_shape=(img_size, img_size, 3), \n",
    "                    alpha=1.0, include_top=False, weights='imagenet', \n",
    "                    input_tensor=inputs, pooling='max')\n",
    "\n",
    "net = Dense(128, activation='relu')(mobilenetv2_model.layers[-1].output)\n",
    "net = Dense(64, activation='relu')(net)\n",
    "net = Dense(output_size, activation='linear')(net)\n",
    "\n",
    "model = Model(inputs=inputs, outputs=net)\n",
    "\n",
    "model.summary()\n",
    "\n",
    "# training\n",
    "model.compile(optimizer=keras.optimizers.Adam(), loss='mse')\n",
    "\n",
    "model.fit(x_train, y_train, epochs=50, batch_size=32, shuffle=True,\n",
    "    validation_data=(x_test, y_test), verbose=1,\n",
    "    callbacks=[\n",
    "    TensorBoard(log_dir='logs/%s' % (start_time)),\n",
    "    ModelCheckpoint('./models/%s.h5' % (start_time), monitor='val_loss', verbose=1, save_best_only=True, mode='auto'),\n",
    "    ReduceLROnPlateau(monitor='val_loss', factor=0.2, patience=5, verbose=1, mode='auto')\n",
    "  ]\n",
    ")"
   ]
  }
 ],
 "metadata": {
  "kernelspec": {
   "display_name": "py_ML",
   "language": "python",
   "name": "py_ml"
  },
  "language_info": {
   "codemirror_mode": {
    "name": "ipython",
    "version": 3
   },
   "file_extension": ".py",
   "mimetype": "text/x-python",
   "name": "python",
   "nbconvert_exporter": "python",
   "pygments_lexer": "ipython3",
   "version": "3.6.8"
  }
 },
 "nbformat": 4,
 "nbformat_minor": 2
}
