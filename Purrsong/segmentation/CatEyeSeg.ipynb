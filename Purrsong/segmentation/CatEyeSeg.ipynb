{
 "cells": [
  {
   "cell_type": "markdown",
   "metadata": {},
   "source": [
    "### Libraries"
   ]
  },
  {
   "cell_type": "code",
   "execution_count": 1,
   "metadata": {},
   "outputs": [],
   "source": [
    "import os\n",
    "import cv2\n",
    "import numpy as np\n",
    "\n",
    "from sklearn import cluster\n",
    "from skimage import segmentation\n",
    "from skimage import color \n",
    "from skimage.future import graph\n",
    "\n",
    "import matplotlib.pyplot as plt\n",
    "from matplotlib.gridspec import GridSpec\n",
    "%matplotlib inline"
   ]
  },
  {
   "cell_type": "markdown",
   "metadata": {},
   "source": [
    "### General Functions"
   ]
  },
  {
   "cell_type": "code",
   "execution_count": 2,
   "metadata": {},
   "outputs": [],
   "source": [
    "def load_imgs(directory, filelist):\n",
    "    imgs = []\n",
    "    for file in filelist:\n",
    "        f = os.path.join(directory, file)\n",
    "        img = cv2.imread(f)\n",
    "        img = cv2.cvtColor(img, cv2.COLOR_BGR2RGB)\n",
    "        imgs.append(img)\n",
    "    return imgs"
   ]
  },
  {
   "cell_type": "code",
   "execution_count": 3,
   "metadata": {},
   "outputs": [],
   "source": [
    "def filt(img, *filters):\n",
    "    for filt in filters:\n",
    "        img = filt(img)\n",
    "    return img"
   ]
  },
  {
   "cell_type": "code",
   "execution_count": 4,
   "metadata": {},
   "outputs": [],
   "source": [
    "def multiplot(img_array, figkw={}):\n",
    "    fig = plt.figure(**figkw)\n",
    "    \n",
    "    for row, imgs in enumerate(img_array, start=1):\n",
    "        for col, img in enumerate(imgs, start=1):\n",
    "            plt.subplot(len(img_array), len(imgs), col)\n",
    "            plt.imshow(img)\n",
    "            if len(img.shape)==2:\n",
    "                plt.imshow(img, cmap='gray')\n",
    "            plt.tight_layout()\n",
    "            plt.axis('off')\n",
    "        plt.show()"
   ]
  },
  {
   "cell_type": "code",
   "execution_count": 5,
   "metadata": {},
   "outputs": [],
   "source": [
    "def gridplot(img_array, img_sz=(2, 2), title='', savepath=None, show=False):\n",
    "    rows, cols = len(img_array), len(img_array[0])\n",
    "    gs = GridSpec(rows, cols, wspace=0.0, hspace=0.0)\n",
    "    \n",
    "    fig = plt.figure(figsize=(img_sz[0]*cols, img_sz[1]*rows))\n",
    "    for row, imgs in enumerate(img_array):\n",
    "        for col, img in enumerate(imgs):\n",
    "            plt.subplot(gs[row, col])\n",
    "            plt.imshow(img)\n",
    "            if len(img.shape)==2:\n",
    "                plt.imshow(img, cmap='gray')\n",
    "            plt.axis('off')\n",
    "    plt.suptitle(title)\n",
    "    if savepath:\n",
    "        assert savepath.endswith('.png'), 'savepath should include extention. ex) \"images/img00.png\"'\n",
    "        dirname = os.path.dirname(savepath)\n",
    "        os.makedirs(name=dirname, exist_ok=True)\n",
    "        fig.savefig(savepath)\n",
    "    if show:\n",
    "        plt.show()\n",
    "    else:\n",
    "        plt.close(fig)"
   ]
  },
  {
   "cell_type": "markdown",
   "metadata": {},
   "source": [
    "### Filters"
   ]
  },
  {
   "cell_type": "code",
   "execution_count": 6,
   "metadata": {},
   "outputs": [],
   "source": [
    "def kmeans(*args, **kwargs):\n",
    "    def func(img, *args, **kwargs):\n",
    "        x, y, c = img.shape\n",
    "        img = img.reshape(x*y, c)\n",
    "        \n",
    "        K = cluster.KMeans(**kwargs)\n",
    "        K.fit(img)\n",
    "        centers, labels = K.cluster_centers_, K.labels_\n",
    "        img = centers[labels].reshape(x, y, c).astype(np.uint8)\n",
    "        return img\n",
    "    return func\n",
    "\n",
    "def smooth(*args, **kwargs):\n",
    "    def func(img, *args, **kwargs):\n",
    "        img = cv2.fastNlMeansDenoisingColored(img, *args, **kwargs)\n",
    "        return img\n",
    "    return func\n",
    "\n",
    "def graphcut(segmap=False, n_segments=20, mode='similarity'):\n",
    "    def func(img, segmap=segmap, n_segments=n_segments, mode=mode):\n",
    "        seg = segmentation.slic(img, n_segments=n_segments)\n",
    "\n",
    "        g = graph.rag_mean_color(img, seg, mode=mode)\n",
    "        seg2 = graph.cut_normalized(seg, g)\n",
    "        img = color.label2rgb(seg2, img, kind='avg')\n",
    "        if segmap:\n",
    "            return seg2\n",
    "        return img\n",
    "    return func\n",
    "\n",
    "def grabcut(segmap=False, rect_shape=(0.2, 0.2, 0.8, 0.8)):\n",
    "    def func(img, segmap=segmap, rect_shape=rect_shape):\n",
    "        w, h = img.shape[:2]\n",
    "        mask = np.zeros((w, h),np.uint8)\n",
    "        bgdModel = np.zeros((1,65),np.float64)\n",
    "        fgdModel = np.zeros((1,65),np.float64)\n",
    "        w1, h1, w2, h2 = rect_shape\n",
    "        rect = (int(w1*w), int(h1*h), int(w2*w), int(h2*h))\n",
    "        cv2.grabCut(img,mask,rect,bgdModel,fgdModel,1,cv2.GC_INIT_WITH_RECT)\n",
    "        mask2 = np.where((mask==2)|(mask==0),0,1).astype('uint8')\n",
    "        img = img*mask2[:,:,np.newaxis]\n",
    "        if segmap:\n",
    "            return mask2\n",
    "        return img\n",
    "    return func\n",
    "\n",
    "def medianblur(ksize=5):\n",
    "    def func(img, ksize=ksize):\n",
    "        img = cv2.medianBlur(img, ksize=ksize)\n",
    "        return img\n",
    "    return func"
   ]
  },
  {
   "cell_type": "markdown",
   "metadata": {},
   "source": [
    "### load data"
   ]
  },
  {
   "cell_type": "code",
   "execution_count": 7,
   "metadata": {},
   "outputs": [],
   "source": [
    "# directory = os.path.join(os.path.expanduser(\"~\"),\"Desktop\",'eyes_imgs')\n",
    "directory = 'eyes_imgs'\n",
    "filelist = os.listdir(directory)\n",
    "imgs = load_imgs(directory, filelist)"
   ]
  },
  {
   "cell_type": "markdown",
   "metadata": {},
   "source": [
    "### playground"
   ]
  },
  {
   "cell_type": "markdown",
   "metadata": {},
   "source": [
    "##### trial_2"
   ]
  },
  {
   "cell_type": "code",
   "execution_count": 25,
   "metadata": {},
   "outputs": [],
   "source": [
    "rows = []\n",
    "for img in imgs[:16]:\n",
    "    im0 = img\n",
    "    im1 = filt(im0, smooth(templateWindowSize=40))\n",
    "    im2 = filt(im1, graphcut(n_segments=300))\n",
    "    im3 = filt(im2, grabcut(segmap=False, rect_shape=(0.1, 0.1, 0.9, 0.9)))\n",
    "#     im4 = filt(im2, grabcut(segmap=False, rect_shape=(0.1, 0.1, 0.9, 0.9)))\n",
    "#     im5 = filt(im3, medianblur(ksize=7))\n",
    "    \n",
    "    cols = [im0, im1, im2, im3]\n",
    "    rows.append(cols)\n",
    "img_array = rows"
   ]
  },
  {
   "cell_type": "code",
   "execution_count": null,
   "metadata": {},
   "outputs": [],
   "source": [
    "gridplot(img_array=img_array, title='', savepath='seg_imgs/seg01.png', show=True)"
   ]
  },
  {
   "cell_type": "markdown",
   "metadata": {},
   "source": [
    "##### trial_1"
   ]
  },
  {
   "cell_type": "code",
   "execution_count": 10,
   "metadata": {},
   "outputs": [],
   "source": [
    "def smooth_graphcut_grabcut_medianblur(templateWindowSize=40, n_segments=300, rect_shape=(0.1, 0.1, 0.9, 0.9), ksize=11):\n",
    "    rows = []\n",
    "    for img in imgs:\n",
    "        im0 = img\n",
    "        im1 = filt(im0, smooth(templateWindowSize=templateWindowSize))\n",
    "        im2 = filt(im1, graphcut(n_segments=n_segments))\n",
    "        im3 = filt(im2, grabcut(segmap=True, rect_shape=rect_shape))\n",
    "        im4 = filt(im3, medianblur(ksize=11))\n",
    "        cols = [im0, im1, im2, im3, im4]\n",
    "        rows.append(cols)\n",
    "    img_array = rows\n",
    "    return img_array"
   ]
  },
  {
   "cell_type": "code",
   "execution_count": 11,
   "metadata": {},
   "outputs": [],
   "source": [
    "for templateWindowSize in [20, 40, 60, 80]:\n",
    "    for n_segment in [200, 300, 400]:\n",
    "        for ksize in [3, 5, 9, 13]:\n",
    "            img_array = smooth_graphcut_grabcut_medianblur(\n",
    "                templateWindowSize=templateWindowSize, \n",
    "                n_segments=300, rect_shape=(0.1, 0.1, 0.9, 0.9), ksize=ksize)\n",
    "            title = 'smooth_graphcut_grabcut_medianblur'\n",
    "            savepath = os.path.join(title, f'templateWindowSize({templateWindowSize})_n_segment({n_segment})_ksize({ksize})'+'.png')\n",
    "            gridplot(img_array=img_array, title=title, savepath=savepath)"
   ]
  },
  {
   "cell_type": "markdown",
   "metadata": {},
   "source": [
    "##### trial_2"
   ]
  },
  {
   "cell_type": "code",
   "execution_count": null,
   "metadata": {},
   "outputs": [],
   "source": [
    "def by_ksize(templateWindowSize=40, n_segments=300, rect_shape=(0.1, 0.1, 0.9, 0.9), ksize=11):\n",
    "    rows = []\n",
    "    for img in imgs:\n",
    "        im0 = img\n",
    "        im1 = filt(im0, smooth(templateWindowSize=templateWindowSize))\n",
    "        im2 = filt(im1, graphcut(n_segments=n_segments))\n",
    "        im3 = filt(im2, grabcut(segmap=True, rect_shape=rect_shape))\n",
    "        im4 = filt(im3, medianblur(ksize=ksize))\n",
    "        cols = [im0, im1, im2, im3, im4]\n",
    "        rows.append(cols)\n",
    "    img_array = rows\n",
    "    return img_array"
   ]
  },
  {
   "cell_type": "code",
   "execution_count": null,
   "metadata": {},
   "outputs": [],
   "source": [
    "for ksize in [3, 5, 9, 13]:\n",
    "    img_array = smooth_graphcut_grabcut_medianblur(\n",
    "        templateWindowSize=templateWindowSize, \n",
    "        n_segments=300, rect_shape=(0.1, 0.1, 0.9, 0.9), ksize=ksize)\n",
    "    title = 'smooth_graphcut_grabcut_medianblur'\n",
    "    savepath = os.path.join(title, f'templateWindowSize({templateWindowSize})_n_segment({n_segment})_ksize({ksize})'+'.png')\n",
    "    gridplot(img_array=img_array, title=title, savepath=savepath)"
   ]
  }
 ],
 "metadata": {
  "kernelspec": {
   "display_name": "py_ml",
   "language": "python",
   "name": "py_ml"
  },
  "language_info": {
   "codemirror_mode": {
    "name": "ipython",
    "version": 3
   },
   "file_extension": ".py",
   "mimetype": "text/x-python",
   "name": "python",
   "nbconvert_exporter": "python",
   "pygments_lexer": "ipython3",
   "version": "3.6.9"
  }
 },
 "nbformat": 4,
 "nbformat_minor": 2
}
