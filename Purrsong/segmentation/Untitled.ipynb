{
 "cells": [
  {
   "cell_type": "code",
   "execution_count": 1,
   "metadata": {},
   "outputs": [],
   "source": [
    "import requests\n",
    "from bs4 import BeautifulSoup\n",
    "import csv\n",
    "import pprint"
   ]
  },
  {
   "cell_type": "code",
   "execution_count": null,
   "metadata": {},
   "outputs": [],
   "source": [
    "BASE_URL = 'http://www.pythonscraping.com'"
   ]
  },
  {
   "cell_type": "code",
   "execution_count": 2,
   "metadata": {},
   "outputs": [],
   "source": [
    "def create_list_from_table(table_tag):\n",
    "    # CSV 파일로 만들기 위해서 2중 리스트 생성\n",
    "    gifts = []\n",
    "    # 헤더에 해당하는 1번째 로우 작성\n",
    "    headers = []\n",
    "    # 선물 레코드 작성\n",
    "    # 좌우 공백을 제거하고 텍스트 속에 \\n문자를 공백으로 변경\n",
    "    # pprint.pprint(gifts)\n",
    "    return gifts"
   ]
  },
  {
   "cell_type": "code",
   "execution_count": 4,
   "metadata": {},
   "outputs": [],
   "source": [
    "def create_csv_file(lol, filename):\n",
    "    # 이중 리스트의 내용을 CSV 파일로 저장\n",
    "    with open(filename, 'w', encoding='utf-8') as file:\n",
    "        writer = csv.writer(file)\n",
    "\n",
    "    for l in lol:\n",
    "        writer.writerow(l)"
   ]
  },
  {
   "cell_type": "code",
   "execution_count": null,
   "metadata": {},
   "outputs": [],
   "source": [
    "def main():\n",
    "    res = requests.get(BASE_URL + '/pages/page3.html')\n",
    "    soup = BeautifulSoup(res.text, 'lxml')\n",
    "    # 테이블 태그 확보\n",
    "    table_tag = soup.find(id='giftList')\n",
    "    gifts = create_list_from_table(table_tag)\n",
    "    create_csv_file(gifts, 'gifts.csv')\n",
    "    print('job completed..')\n",
    "    \n",
    "    if __name__ == '__main__':\n",
    "        main()"
   ]
  }
 ],
 "metadata": {
  "kernelspec": {
   "display_name": "Python 3",
   "language": "python",
   "name": "python3"
  },
  "language_info": {
   "codemirror_mode": {
    "name": "ipython",
    "version": 3
   },
   "file_extension": ".py",
   "mimetype": "text/x-python",
   "name": "python",
   "nbconvert_exporter": "python",
   "pygments_lexer": "ipython3",
   "version": "3.7.3"
  }
 },
 "nbformat": 4,
 "nbformat_minor": 2
}
