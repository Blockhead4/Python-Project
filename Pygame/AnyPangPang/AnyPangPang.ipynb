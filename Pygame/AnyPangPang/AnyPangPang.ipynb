{
 "cells": [
  {
   "cell_type": "code",
   "execution_count": 1,
   "metadata": {},
   "outputs": [],
   "source": [
    "import random"
   ]
  },
  {
   "cell_type": "code",
   "execution_count": 333,
   "metadata": {},
   "outputs": [
    {
     "name": "stdout",
     "output_type": "stream",
     "text": [
      "Welcom to AnyPangPang Game!, What row & column do you want to play? 6 6\n"
     ]
    }
   ],
   "source": [
    "row, col = map(int, input(\"Welcom to AnyPangPang Game!, What row & column do you want to play? \").split())"
   ]
  },
  {
   "cell_type": "code",
   "execution_count": 314,
   "metadata": {},
   "outputs": [],
   "source": [
    "tiles = []\n",
    "for _ in range(row):\n",
    "    value = []\n",
    "    for _ in range(col):\n",
    "        value.append(random.randint(1, 4))\n",
    "    tiles.append(value)"
   ]
  },
  {
   "cell_type": "code",
   "execution_count": 315,
   "metadata": {},
   "outputs": [
    {
     "name": "stdout",
     "output_type": "stream",
     "text": [
      "1 3 2 4 4 2 \n",
      "2 4 4 2 1 2 \n",
      "2 2 4 3 4 3 \n",
      "4 1 4 4 3 4 \n",
      "1 4 4 3 1 3 \n"
     ]
    }
   ],
   "source": [
    "for i in tiles:\n",
    "    for v in i:\n",
    "        print(v, end=' ')\n",
    "    print()"
   ]
  },
  {
   "cell_type": "code",
   "execution_count": 316,
   "metadata": {},
   "outputs": [],
   "source": [
    "seq_idx_h = []\n",
    "for r in range(row):\n",
    "    for c in range(col-2):\n",
    "        if tiles[r][c] == tiles[r][c+1] == tiles[r][c+2]:\n",
    "            seq_idx_h.append([r, c])"
   ]
  },
  {
   "cell_type": "code",
   "execution_count": 317,
   "metadata": {},
   "outputs": [
    {
     "data": {
      "text/plain": [
       "[]"
      ]
     },
     "execution_count": 317,
     "metadata": {},
     "output_type": "execute_result"
    }
   ],
   "source": [
    "seq_idx_h"
   ]
  },
  {
   "cell_type": "code",
   "execution_count": 318,
   "metadata": {},
   "outputs": [],
   "source": [
    "seq_idx_v = []\n",
    "for r in range(row-2):\n",
    "    for c in range(col):\n",
    "        if tiles[r][c] == tiles[r+1][c] == tiles[r+2][c]:\n",
    "            seq_idx_v.append([r, c])"
   ]
  },
  {
   "cell_type": "code",
   "execution_count": 319,
   "metadata": {},
   "outputs": [
    {
     "data": {
      "text/plain": [
       "[[1, 2], [2, 2]]"
      ]
     },
     "execution_count": 319,
     "metadata": {},
     "output_type": "execute_result"
    }
   ],
   "source": [
    "seq_idx_v"
   ]
  },
  {
   "cell_type": "code",
   "execution_count": 320,
   "metadata": {},
   "outputs": [],
   "source": [
    "for r, c in seq_idx_h:\n",
    "    tiles[r][c] = '*'\n",
    "    tiles[r][c+1] = '*'\n",
    "    tiles[r][c+2] = '*'"
   ]
  },
  {
   "cell_type": "code",
   "execution_count": 321,
   "metadata": {},
   "outputs": [],
   "source": [
    "for r, c in seq_idx_v:\n",
    "    tiles[r][c] = '*'\n",
    "    tiles[r+1][c] = '*'\n",
    "    tiles[r+2][c] = '*'"
   ]
  },
  {
   "cell_type": "code",
   "execution_count": 322,
   "metadata": {},
   "outputs": [
    {
     "name": "stdout",
     "output_type": "stream",
     "text": [
      "1 3 2 4 4 2 \n",
      "2 4 * 2 1 2 \n",
      "2 2 * 3 4 3 \n",
      "4 1 * 4 3 4 \n",
      "1 4 * 3 1 3 \n"
     ]
    }
   ],
   "source": [
    "for i in tiles:\n",
    "    for v in i:\n",
    "        print(v, end=' ')\n",
    "    print()"
   ]
  },
  {
   "cell_type": "code",
   "execution_count": 323,
   "metadata": {},
   "outputs": [],
   "source": [
    "tr_tiles = [list(x) for x in zip(*tiles)]"
   ]
  },
  {
   "cell_type": "code",
   "execution_count": 324,
   "metadata": {},
   "outputs": [
    {
     "name": "stdout",
     "output_type": "stream",
     "text": [
      "1 2 2 4 1 \n",
      "3 4 2 1 4 \n",
      "2 * * * * \n",
      "4 2 3 4 3 \n",
      "4 1 4 3 1 \n",
      "2 2 3 4 3 \n"
     ]
    }
   ],
   "source": [
    "for i in tr_tiles:\n",
    "    for v in i:\n",
    "        print(v, end=' ')\n",
    "    print()"
   ]
  },
  {
   "cell_type": "code",
   "execution_count": 325,
   "metadata": {},
   "outputs": [],
   "source": [
    "reform = []\n",
    "for i in tr_tiles:\n",
    "    reform.append(list(filter(lambda x:x if x != '*' else None, i)))"
   ]
  },
  {
   "cell_type": "code",
   "execution_count": 326,
   "metadata": {},
   "outputs": [
    {
     "data": {
      "text/plain": [
       "[[1, 2, 2, 4, 1],\n",
       " [3, 4, 2, 1, 4],\n",
       " [2],\n",
       " [4, 2, 3, 4, 3],\n",
       " [4, 1, 4, 3, 1],\n",
       " [2, 2, 3, 4, 3]]"
      ]
     },
     "execution_count": 326,
     "metadata": {},
     "output_type": "execute_result"
    }
   ],
   "source": [
    "reform"
   ]
  },
  {
   "cell_type": "code",
   "execution_count": 327,
   "metadata": {},
   "outputs": [],
   "source": [
    "for i in range(len(reform)):\n",
    "    diff = row - len(reform[i])\n",
    "    for _ in range(diff):\n",
    "        reform[i].insert(0, random.randint(1, 4))"
   ]
  },
  {
   "cell_type": "code",
   "execution_count": 328,
   "metadata": {},
   "outputs": [
    {
     "data": {
      "text/plain": [
       "[[1, 2, 2, 4, 1],\n",
       " [3, 4, 2, 1, 4],\n",
       " [2, 4, 2, 3, 2],\n",
       " [4, 2, 3, 4, 3],\n",
       " [4, 1, 4, 3, 1],\n",
       " [2, 2, 3, 4, 3]]"
      ]
     },
     "execution_count": 328,
     "metadata": {},
     "output_type": "execute_result"
    }
   ],
   "source": [
    "reform"
   ]
  },
  {
   "cell_type": "code",
   "execution_count": 329,
   "metadata": {},
   "outputs": [],
   "source": [
    "tr_reform = [list(x) for x in zip(*reform)]"
   ]
  },
  {
   "cell_type": "code",
   "execution_count": 330,
   "metadata": {},
   "outputs": [
    {
     "data": {
      "text/plain": [
       "[[1, 3, 2, 4, 4, 2],\n",
       " [2, 4, 4, 2, 1, 2],\n",
       " [2, 2, 2, 3, 4, 3],\n",
       " [4, 1, 3, 4, 3, 4],\n",
       " [1, 4, 2, 3, 1, 3]]"
      ]
     },
     "execution_count": 330,
     "metadata": {},
     "output_type": "execute_result"
    }
   ],
   "source": [
    "tr_reform"
   ]
  },
  {
   "cell_type": "code",
   "execution_count": null,
   "metadata": {},
   "outputs": [],
   "source": []
  },
  {
   "cell_type": "code",
   "execution_count": 334,
   "metadata": {},
   "outputs": [],
   "source": [
    "tiles2 = [[random.randint(1, 4) for _ in range(col)] for _ in range(row)]"
   ]
  },
  {
   "cell_type": "code",
   "execution_count": 335,
   "metadata": {},
   "outputs": [
    {
     "data": {
      "text/plain": [
       "[[4, 4, 2, 4, 2, 3],\n",
       " [1, 4, 3, 2, 4, 1],\n",
       " [1, 3, 4, 4, 4, 1],\n",
       " [2, 1, 4, 3, 2, 4],\n",
       " [3, 3, 1, 4, 2, 1],\n",
       " [1, 1, 4, 1, 2, 1]]"
      ]
     },
     "execution_count": 335,
     "metadata": {},
     "output_type": "execute_result"
    }
   ],
   "source": [
    "tiles2"
   ]
  },
  {
   "cell_type": "code",
   "execution_count": 339,
   "metadata": {},
   "outputs": [
    {
     "name": "stdout",
     "output_type": "stream",
     "text": [
      "1213 12312\n"
     ]
    }
   ],
   "source": [
    "print('1213', end=' ')\n",
    "print('12312')"
   ]
  },
  {
   "cell_type": "code",
   "execution_count": null,
   "metadata": {},
   "outputs": [],
   "source": []
  }
 ],
 "metadata": {
  "kernelspec": {
   "display_name": "Python 3",
   "language": "python",
   "name": "python3"
  },
  "language_info": {
   "codemirror_mode": {
    "name": "ipython",
    "version": 3
   },
   "file_extension": ".py",
   "mimetype": "text/x-python",
   "name": "python",
   "nbconvert_exporter": "python",
   "pygments_lexer": "ipython3",
   "version": "3.7.3"
  }
 },
 "nbformat": 4,
 "nbformat_minor": 2
}
